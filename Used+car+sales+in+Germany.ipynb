{
 "cells": [
  {
   "cell_type": "markdown",
   "metadata": {
    "collapsed": true
   },
   "source": [
    "## Guided project: Analyzing used car sales in Germany data\n",
    "\n",
    "In this guided project, we will be cleaning and analyze the dataset of the car market in Germany.\n"
   ]
  },
  {
   "cell_type": "markdown",
   "metadata": {},
   "source": [
    "During the import phase, there was a problem while reading the file in UTF-8, after switching to Latin-1 it worked fine."
   ]
  },
  {
   "cell_type": "code",
   "execution_count": 1,
   "metadata": {
    "collapsed": false
   },
   "outputs": [],
   "source": [
    "import numpy as np\n",
    "import pandas as pd\n",
    "autos = pd.read_csv('autos.csv', encoding = 'Latin-1')"
   ]
  },
  {
   "cell_type": "markdown",
   "metadata": {},
   "source": [
    "Let's explore the data we have here."
   ]
  },
  {
   "cell_type": "code",
   "execution_count": 2,
   "metadata": {
    "collapsed": false
   },
   "outputs": [
    {
     "name": "stdout",
     "output_type": "stream",
     "text": [
      "<class 'pandas.core.frame.DataFrame'>\n",
      "RangeIndex: 50000 entries, 0 to 49999\n",
      "Data columns (total 20 columns):\n",
      "dateCrawled            50000 non-null object\n",
      "name                   50000 non-null object\n",
      "seller                 50000 non-null object\n",
      "offerType              50000 non-null object\n",
      "price                  50000 non-null object\n",
      "abtest                 50000 non-null object\n",
      "vehicleType            44905 non-null object\n",
      "yearOfRegistration     50000 non-null int64\n",
      "gearbox                47320 non-null object\n",
      "powerPS                50000 non-null int64\n",
      "model                  47242 non-null object\n",
      "odometer               50000 non-null object\n",
      "monthOfRegistration    50000 non-null int64\n",
      "fuelType               45518 non-null object\n",
      "brand                  50000 non-null object\n",
      "notRepairedDamage      40171 non-null object\n",
      "dateCreated            50000 non-null object\n",
      "nrOfPictures           50000 non-null int64\n",
      "postalCode             50000 non-null int64\n",
      "lastSeen               50000 non-null object\n",
      "dtypes: int64(5), object(15)\n",
      "memory usage: 7.6+ MB\n"
     ]
    },
    {
     "data": {
      "text/html": [
       "<div>\n",
       "<style scoped>\n",
       "    .dataframe tbody tr th:only-of-type {\n",
       "        vertical-align: middle;\n",
       "    }\n",
       "\n",
       "    .dataframe tbody tr th {\n",
       "        vertical-align: top;\n",
       "    }\n",
       "\n",
       "    .dataframe thead th {\n",
       "        text-align: right;\n",
       "    }\n",
       "</style>\n",
       "<table border=\"1\" class=\"dataframe\">\n",
       "  <thead>\n",
       "    <tr style=\"text-align: right;\">\n",
       "      <th></th>\n",
       "      <th>dateCrawled</th>\n",
       "      <th>name</th>\n",
       "      <th>seller</th>\n",
       "      <th>offerType</th>\n",
       "      <th>price</th>\n",
       "      <th>abtest</th>\n",
       "      <th>vehicleType</th>\n",
       "      <th>yearOfRegistration</th>\n",
       "      <th>gearbox</th>\n",
       "      <th>powerPS</th>\n",
       "      <th>model</th>\n",
       "      <th>odometer</th>\n",
       "      <th>monthOfRegistration</th>\n",
       "      <th>fuelType</th>\n",
       "      <th>brand</th>\n",
       "      <th>notRepairedDamage</th>\n",
       "      <th>dateCreated</th>\n",
       "      <th>nrOfPictures</th>\n",
       "      <th>postalCode</th>\n",
       "      <th>lastSeen</th>\n",
       "    </tr>\n",
       "  </thead>\n",
       "  <tbody>\n",
       "    <tr>\n",
       "      <th>0</th>\n",
       "      <td>2016-03-26 17:47:46</td>\n",
       "      <td>Peugeot_807_160_NAVTECH_ON_BOARD</td>\n",
       "      <td>privat</td>\n",
       "      <td>Angebot</td>\n",
       "      <td>$5,000</td>\n",
       "      <td>control</td>\n",
       "      <td>bus</td>\n",
       "      <td>2004</td>\n",
       "      <td>manuell</td>\n",
       "      <td>158</td>\n",
       "      <td>andere</td>\n",
       "      <td>150,000km</td>\n",
       "      <td>3</td>\n",
       "      <td>lpg</td>\n",
       "      <td>peugeot</td>\n",
       "      <td>nein</td>\n",
       "      <td>2016-03-26 00:00:00</td>\n",
       "      <td>0</td>\n",
       "      <td>79588</td>\n",
       "      <td>2016-04-06 06:45:54</td>\n",
       "    </tr>\n",
       "    <tr>\n",
       "      <th>1</th>\n",
       "      <td>2016-04-04 13:38:56</td>\n",
       "      <td>BMW_740i_4_4_Liter_HAMANN_UMBAU_Mega_Optik</td>\n",
       "      <td>privat</td>\n",
       "      <td>Angebot</td>\n",
       "      <td>$8,500</td>\n",
       "      <td>control</td>\n",
       "      <td>limousine</td>\n",
       "      <td>1997</td>\n",
       "      <td>automatik</td>\n",
       "      <td>286</td>\n",
       "      <td>7er</td>\n",
       "      <td>150,000km</td>\n",
       "      <td>6</td>\n",
       "      <td>benzin</td>\n",
       "      <td>bmw</td>\n",
       "      <td>nein</td>\n",
       "      <td>2016-04-04 00:00:00</td>\n",
       "      <td>0</td>\n",
       "      <td>71034</td>\n",
       "      <td>2016-04-06 14:45:08</td>\n",
       "    </tr>\n",
       "    <tr>\n",
       "      <th>2</th>\n",
       "      <td>2016-03-26 18:57:24</td>\n",
       "      <td>Volkswagen_Golf_1.6_United</td>\n",
       "      <td>privat</td>\n",
       "      <td>Angebot</td>\n",
       "      <td>$8,990</td>\n",
       "      <td>test</td>\n",
       "      <td>limousine</td>\n",
       "      <td>2009</td>\n",
       "      <td>manuell</td>\n",
       "      <td>102</td>\n",
       "      <td>golf</td>\n",
       "      <td>70,000km</td>\n",
       "      <td>7</td>\n",
       "      <td>benzin</td>\n",
       "      <td>volkswagen</td>\n",
       "      <td>nein</td>\n",
       "      <td>2016-03-26 00:00:00</td>\n",
       "      <td>0</td>\n",
       "      <td>35394</td>\n",
       "      <td>2016-04-06 20:15:37</td>\n",
       "    </tr>\n",
       "    <tr>\n",
       "      <th>3</th>\n",
       "      <td>2016-03-12 16:58:10</td>\n",
       "      <td>Smart_smart_fortwo_coupe_softouch/F1/Klima/Pan...</td>\n",
       "      <td>privat</td>\n",
       "      <td>Angebot</td>\n",
       "      <td>$4,350</td>\n",
       "      <td>control</td>\n",
       "      <td>kleinwagen</td>\n",
       "      <td>2007</td>\n",
       "      <td>automatik</td>\n",
       "      <td>71</td>\n",
       "      <td>fortwo</td>\n",
       "      <td>70,000km</td>\n",
       "      <td>6</td>\n",
       "      <td>benzin</td>\n",
       "      <td>smart</td>\n",
       "      <td>nein</td>\n",
       "      <td>2016-03-12 00:00:00</td>\n",
       "      <td>0</td>\n",
       "      <td>33729</td>\n",
       "      <td>2016-03-15 03:16:28</td>\n",
       "    </tr>\n",
       "    <tr>\n",
       "      <th>4</th>\n",
       "      <td>2016-04-01 14:38:50</td>\n",
       "      <td>Ford_Focus_1_6_Benzin_TÜV_neu_ist_sehr_gepfleg...</td>\n",
       "      <td>privat</td>\n",
       "      <td>Angebot</td>\n",
       "      <td>$1,350</td>\n",
       "      <td>test</td>\n",
       "      <td>kombi</td>\n",
       "      <td>2003</td>\n",
       "      <td>manuell</td>\n",
       "      <td>0</td>\n",
       "      <td>focus</td>\n",
       "      <td>150,000km</td>\n",
       "      <td>7</td>\n",
       "      <td>benzin</td>\n",
       "      <td>ford</td>\n",
       "      <td>nein</td>\n",
       "      <td>2016-04-01 00:00:00</td>\n",
       "      <td>0</td>\n",
       "      <td>39218</td>\n",
       "      <td>2016-04-01 14:38:50</td>\n",
       "    </tr>\n",
       "  </tbody>\n",
       "</table>\n",
       "</div>"
      ],
      "text/plain": [
       "           dateCrawled                                               name  \\\n",
       "0  2016-03-26 17:47:46                   Peugeot_807_160_NAVTECH_ON_BOARD   \n",
       "1  2016-04-04 13:38:56         BMW_740i_4_4_Liter_HAMANN_UMBAU_Mega_Optik   \n",
       "2  2016-03-26 18:57:24                         Volkswagen_Golf_1.6_United   \n",
       "3  2016-03-12 16:58:10  Smart_smart_fortwo_coupe_softouch/F1/Klima/Pan...   \n",
       "4  2016-04-01 14:38:50  Ford_Focus_1_6_Benzin_TÜV_neu_ist_sehr_gepfleg...   \n",
       "\n",
       "   seller offerType   price   abtest vehicleType  yearOfRegistration  \\\n",
       "0  privat   Angebot  $5,000  control         bus                2004   \n",
       "1  privat   Angebot  $8,500  control   limousine                1997   \n",
       "2  privat   Angebot  $8,990     test   limousine                2009   \n",
       "3  privat   Angebot  $4,350  control  kleinwagen                2007   \n",
       "4  privat   Angebot  $1,350     test       kombi                2003   \n",
       "\n",
       "     gearbox  powerPS   model   odometer  monthOfRegistration fuelType  \\\n",
       "0    manuell      158  andere  150,000km                    3      lpg   \n",
       "1  automatik      286     7er  150,000km                    6   benzin   \n",
       "2    manuell      102    golf   70,000km                    7   benzin   \n",
       "3  automatik       71  fortwo   70,000km                    6   benzin   \n",
       "4    manuell        0   focus  150,000km                    7   benzin   \n",
       "\n",
       "        brand notRepairedDamage          dateCreated  nrOfPictures  \\\n",
       "0     peugeot              nein  2016-03-26 00:00:00             0   \n",
       "1         bmw              nein  2016-04-04 00:00:00             0   \n",
       "2  volkswagen              nein  2016-03-26 00:00:00             0   \n",
       "3       smart              nein  2016-03-12 00:00:00             0   \n",
       "4        ford              nein  2016-04-01 00:00:00             0   \n",
       "\n",
       "   postalCode             lastSeen  \n",
       "0       79588  2016-04-06 06:45:54  \n",
       "1       71034  2016-04-06 14:45:08  \n",
       "2       35394  2016-04-06 20:15:37  \n",
       "3       33729  2016-03-15 03:16:28  \n",
       "4       39218  2016-04-01 14:38:50  "
      ]
     },
     "execution_count": 2,
     "metadata": {},
     "output_type": "execute_result"
    }
   ],
   "source": [
    "autos\n",
    "autos.info()\n",
    "autos.head()"
   ]
  },
  {
   "cell_type": "markdown",
   "metadata": {},
   "source": [
    "In this step, we convert column names from camelcase to snakecase, and rename some of the column names so that they are shorter and easier to read."
   ]
  },
  {
   "cell_type": "markdown",
   "metadata": {},
   "source": [
    "The columns 'seller' and 'offerType' contains mostly one value each, which doesn't' bring any practical meanings to our analysis, so it is perhaps best that they are removed."
   ]
  },
  {
   "cell_type": "code",
   "execution_count": 3,
   "metadata": {
    "collapsed": false
   },
   "outputs": [],
   "source": [
    "autos = autos.drop(['seller', 'offerType'], axis=1)"
   ]
  },
  {
   "cell_type": "code",
   "execution_count": 4,
   "metadata": {
    "collapsed": false,
    "scrolled": false
   },
   "outputs": [
    {
     "data": {
      "text/html": [
       "<div>\n",
       "<style scoped>\n",
       "    .dataframe tbody tr th:only-of-type {\n",
       "        vertical-align: middle;\n",
       "    }\n",
       "\n",
       "    .dataframe tbody tr th {\n",
       "        vertical-align: top;\n",
       "    }\n",
       "\n",
       "    .dataframe thead th {\n",
       "        text-align: right;\n",
       "    }\n",
       "</style>\n",
       "<table border=\"1\" class=\"dataframe\">\n",
       "  <thead>\n",
       "    <tr style=\"text-align: right;\">\n",
       "      <th></th>\n",
       "      <th>date_crawled</th>\n",
       "      <th>name</th>\n",
       "      <th>price</th>\n",
       "      <th>abtest</th>\n",
       "      <th>vehicle_type</th>\n",
       "      <th>registration_year</th>\n",
       "      <th>gearbox</th>\n",
       "      <th>power_ps</th>\n",
       "      <th>model</th>\n",
       "      <th>odometer</th>\n",
       "      <th>registration_month</th>\n",
       "      <th>fuel_type</th>\n",
       "      <th>brand</th>\n",
       "      <th>unrepaired_damage</th>\n",
       "      <th>ad_created</th>\n",
       "      <th>nr_of_pictures</th>\n",
       "      <th>postal_code</th>\n",
       "      <th>last_seen</th>\n",
       "    </tr>\n",
       "  </thead>\n",
       "  <tbody>\n",
       "    <tr>\n",
       "      <th>0</th>\n",
       "      <td>2016-03-26 17:47:46</td>\n",
       "      <td>Peugeot_807_160_NAVTECH_ON_BOARD</td>\n",
       "      <td>$5,000</td>\n",
       "      <td>control</td>\n",
       "      <td>bus</td>\n",
       "      <td>2004</td>\n",
       "      <td>manuell</td>\n",
       "      <td>158</td>\n",
       "      <td>andere</td>\n",
       "      <td>150,000km</td>\n",
       "      <td>3</td>\n",
       "      <td>lpg</td>\n",
       "      <td>peugeot</td>\n",
       "      <td>nein</td>\n",
       "      <td>2016-03-26 00:00:00</td>\n",
       "      <td>0</td>\n",
       "      <td>79588</td>\n",
       "      <td>2016-04-06 06:45:54</td>\n",
       "    </tr>\n",
       "    <tr>\n",
       "      <th>1</th>\n",
       "      <td>2016-04-04 13:38:56</td>\n",
       "      <td>BMW_740i_4_4_Liter_HAMANN_UMBAU_Mega_Optik</td>\n",
       "      <td>$8,500</td>\n",
       "      <td>control</td>\n",
       "      <td>limousine</td>\n",
       "      <td>1997</td>\n",
       "      <td>automatik</td>\n",
       "      <td>286</td>\n",
       "      <td>7er</td>\n",
       "      <td>150,000km</td>\n",
       "      <td>6</td>\n",
       "      <td>benzin</td>\n",
       "      <td>bmw</td>\n",
       "      <td>nein</td>\n",
       "      <td>2016-04-04 00:00:00</td>\n",
       "      <td>0</td>\n",
       "      <td>71034</td>\n",
       "      <td>2016-04-06 14:45:08</td>\n",
       "    </tr>\n",
       "    <tr>\n",
       "      <th>2</th>\n",
       "      <td>2016-03-26 18:57:24</td>\n",
       "      <td>Volkswagen_Golf_1.6_United</td>\n",
       "      <td>$8,990</td>\n",
       "      <td>test</td>\n",
       "      <td>limousine</td>\n",
       "      <td>2009</td>\n",
       "      <td>manuell</td>\n",
       "      <td>102</td>\n",
       "      <td>golf</td>\n",
       "      <td>70,000km</td>\n",
       "      <td>7</td>\n",
       "      <td>benzin</td>\n",
       "      <td>volkswagen</td>\n",
       "      <td>nein</td>\n",
       "      <td>2016-03-26 00:00:00</td>\n",
       "      <td>0</td>\n",
       "      <td>35394</td>\n",
       "      <td>2016-04-06 20:15:37</td>\n",
       "    </tr>\n",
       "    <tr>\n",
       "      <th>3</th>\n",
       "      <td>2016-03-12 16:58:10</td>\n",
       "      <td>Smart_smart_fortwo_coupe_softouch/F1/Klima/Pan...</td>\n",
       "      <td>$4,350</td>\n",
       "      <td>control</td>\n",
       "      <td>kleinwagen</td>\n",
       "      <td>2007</td>\n",
       "      <td>automatik</td>\n",
       "      <td>71</td>\n",
       "      <td>fortwo</td>\n",
       "      <td>70,000km</td>\n",
       "      <td>6</td>\n",
       "      <td>benzin</td>\n",
       "      <td>smart</td>\n",
       "      <td>nein</td>\n",
       "      <td>2016-03-12 00:00:00</td>\n",
       "      <td>0</td>\n",
       "      <td>33729</td>\n",
       "      <td>2016-03-15 03:16:28</td>\n",
       "    </tr>\n",
       "    <tr>\n",
       "      <th>4</th>\n",
       "      <td>2016-04-01 14:38:50</td>\n",
       "      <td>Ford_Focus_1_6_Benzin_TÜV_neu_ist_sehr_gepfleg...</td>\n",
       "      <td>$1,350</td>\n",
       "      <td>test</td>\n",
       "      <td>kombi</td>\n",
       "      <td>2003</td>\n",
       "      <td>manuell</td>\n",
       "      <td>0</td>\n",
       "      <td>focus</td>\n",
       "      <td>150,000km</td>\n",
       "      <td>7</td>\n",
       "      <td>benzin</td>\n",
       "      <td>ford</td>\n",
       "      <td>nein</td>\n",
       "      <td>2016-04-01 00:00:00</td>\n",
       "      <td>0</td>\n",
       "      <td>39218</td>\n",
       "      <td>2016-04-01 14:38:50</td>\n",
       "    </tr>\n",
       "  </tbody>\n",
       "</table>\n",
       "</div>"
      ],
      "text/plain": [
       "          date_crawled                                               name  \\\n",
       "0  2016-03-26 17:47:46                   Peugeot_807_160_NAVTECH_ON_BOARD   \n",
       "1  2016-04-04 13:38:56         BMW_740i_4_4_Liter_HAMANN_UMBAU_Mega_Optik   \n",
       "2  2016-03-26 18:57:24                         Volkswagen_Golf_1.6_United   \n",
       "3  2016-03-12 16:58:10  Smart_smart_fortwo_coupe_softouch/F1/Klima/Pan...   \n",
       "4  2016-04-01 14:38:50  Ford_Focus_1_6_Benzin_TÜV_neu_ist_sehr_gepfleg...   \n",
       "\n",
       "    price   abtest vehicle_type  registration_year    gearbox  power_ps  \\\n",
       "0  $5,000  control          bus               2004    manuell       158   \n",
       "1  $8,500  control    limousine               1997  automatik       286   \n",
       "2  $8,990     test    limousine               2009    manuell       102   \n",
       "3  $4,350  control   kleinwagen               2007  automatik        71   \n",
       "4  $1,350     test        kombi               2003    manuell         0   \n",
       "\n",
       "    model   odometer  registration_month fuel_type       brand  \\\n",
       "0  andere  150,000km                   3       lpg     peugeot   \n",
       "1     7er  150,000km                   6    benzin         bmw   \n",
       "2    golf   70,000km                   7    benzin  volkswagen   \n",
       "3  fortwo   70,000km                   6    benzin       smart   \n",
       "4   focus  150,000km                   7    benzin        ford   \n",
       "\n",
       "  unrepaired_damage           ad_created  nr_of_pictures  postal_code  \\\n",
       "0              nein  2016-03-26 00:00:00               0        79588   \n",
       "1              nein  2016-04-04 00:00:00               0        71034   \n",
       "2              nein  2016-03-26 00:00:00               0        35394   \n",
       "3              nein  2016-03-12 00:00:00               0        33729   \n",
       "4              nein  2016-04-01 00:00:00               0        39218   \n",
       "\n",
       "             last_seen  \n",
       "0  2016-04-06 06:45:54  \n",
       "1  2016-04-06 14:45:08  \n",
       "2  2016-04-06 20:15:37  \n",
       "3  2016-03-15 03:16:28  \n",
       "4  2016-04-01 14:38:50  "
      ]
     },
     "execution_count": 4,
     "metadata": {},
     "output_type": "execute_result"
    }
   ],
   "source": [
    "autos.columns = ['date_crawled', 'name', 'price', 'abtest',\n",
    "       'vehicle_type', 'registration_year', 'gearbox', 'power_ps', 'model',\n",
    "       'odometer', 'registration_month', 'fuel_type', 'brand',\n",
    "       'unrepaired_damage', 'ad_created', 'nr_of_pictures', 'postal_code',\n",
    "       'last_seen']\n",
    "autos.head()"
   ]
  },
  {
   "cell_type": "markdown",
   "metadata": {},
   "source": [
    "### Some observation:\n",
    "- Columns that have mostly one value need to be dropped: 'nr_of_pictures'\n",
    "- Columns containing numeric data stored as text need to be converted to number type: 'price' and 'odometer'.\n",
    "### Other columns that need more investigation:\n",
    "- There are 5 columns that contain null values. We might have to deal with them later on.\n",
    "- The dataset uses both German and English, which causes incoherence. We need to use just one.\n",
    "- The column 'lastSeen' and 'dateCreated' 's format as datetime should be considered conversion as well.\n",
    "- The maximum value of 'registration_year' is 9999, which is impossible.\n",
    "- 'power_ps' maximum value is 17700, which is considerably higher than the mean"
   ]
  },
  {
   "cell_type": "code",
   "execution_count": 5,
   "metadata": {
    "collapsed": false,
    "scrolled": true
   },
   "outputs": [
    {
     "data": {
      "text/html": [
       "<div>\n",
       "<style scoped>\n",
       "    .dataframe tbody tr th:only-of-type {\n",
       "        vertical-align: middle;\n",
       "    }\n",
       "\n",
       "    .dataframe tbody tr th {\n",
       "        vertical-align: top;\n",
       "    }\n",
       "\n",
       "    .dataframe thead th {\n",
       "        text-align: right;\n",
       "    }\n",
       "</style>\n",
       "<table border=\"1\" class=\"dataframe\">\n",
       "  <thead>\n",
       "    <tr style=\"text-align: right;\">\n",
       "      <th></th>\n",
       "      <th>date_crawled</th>\n",
       "      <th>name</th>\n",
       "      <th>price</th>\n",
       "      <th>abtest</th>\n",
       "      <th>vehicle_type</th>\n",
       "      <th>registration_year</th>\n",
       "      <th>gearbox</th>\n",
       "      <th>power_ps</th>\n",
       "      <th>model</th>\n",
       "      <th>odometer</th>\n",
       "      <th>registration_month</th>\n",
       "      <th>fuel_type</th>\n",
       "      <th>brand</th>\n",
       "      <th>unrepaired_damage</th>\n",
       "      <th>ad_created</th>\n",
       "      <th>nr_of_pictures</th>\n",
       "      <th>postal_code</th>\n",
       "      <th>last_seen</th>\n",
       "    </tr>\n",
       "  </thead>\n",
       "  <tbody>\n",
       "    <tr>\n",
       "      <th>count</th>\n",
       "      <td>50000</td>\n",
       "      <td>50000</td>\n",
       "      <td>50000</td>\n",
       "      <td>50000</td>\n",
       "      <td>44905</td>\n",
       "      <td>50000.000000</td>\n",
       "      <td>47320</td>\n",
       "      <td>50000.000000</td>\n",
       "      <td>47242</td>\n",
       "      <td>50000</td>\n",
       "      <td>50000.000000</td>\n",
       "      <td>45518</td>\n",
       "      <td>50000</td>\n",
       "      <td>40171</td>\n",
       "      <td>50000</td>\n",
       "      <td>50000.0</td>\n",
       "      <td>50000.000000</td>\n",
       "      <td>50000</td>\n",
       "    </tr>\n",
       "    <tr>\n",
       "      <th>unique</th>\n",
       "      <td>48213</td>\n",
       "      <td>38754</td>\n",
       "      <td>2357</td>\n",
       "      <td>2</td>\n",
       "      <td>8</td>\n",
       "      <td>NaN</td>\n",
       "      <td>2</td>\n",
       "      <td>NaN</td>\n",
       "      <td>245</td>\n",
       "      <td>13</td>\n",
       "      <td>NaN</td>\n",
       "      <td>7</td>\n",
       "      <td>40</td>\n",
       "      <td>2</td>\n",
       "      <td>76</td>\n",
       "      <td>NaN</td>\n",
       "      <td>NaN</td>\n",
       "      <td>39481</td>\n",
       "    </tr>\n",
       "    <tr>\n",
       "      <th>top</th>\n",
       "      <td>2016-03-05 16:57:05</td>\n",
       "      <td>Ford_Fiesta</td>\n",
       "      <td>$0</td>\n",
       "      <td>test</td>\n",
       "      <td>limousine</td>\n",
       "      <td>NaN</td>\n",
       "      <td>manuell</td>\n",
       "      <td>NaN</td>\n",
       "      <td>golf</td>\n",
       "      <td>150,000km</td>\n",
       "      <td>NaN</td>\n",
       "      <td>benzin</td>\n",
       "      <td>volkswagen</td>\n",
       "      <td>nein</td>\n",
       "      <td>2016-04-03 00:00:00</td>\n",
       "      <td>NaN</td>\n",
       "      <td>NaN</td>\n",
       "      <td>2016-04-07 06:17:27</td>\n",
       "    </tr>\n",
       "    <tr>\n",
       "      <th>freq</th>\n",
       "      <td>3</td>\n",
       "      <td>78</td>\n",
       "      <td>1421</td>\n",
       "      <td>25756</td>\n",
       "      <td>12859</td>\n",
       "      <td>NaN</td>\n",
       "      <td>36993</td>\n",
       "      <td>NaN</td>\n",
       "      <td>4024</td>\n",
       "      <td>32424</td>\n",
       "      <td>NaN</td>\n",
       "      <td>30107</td>\n",
       "      <td>10687</td>\n",
       "      <td>35232</td>\n",
       "      <td>1946</td>\n",
       "      <td>NaN</td>\n",
       "      <td>NaN</td>\n",
       "      <td>8</td>\n",
       "    </tr>\n",
       "    <tr>\n",
       "      <th>mean</th>\n",
       "      <td>NaN</td>\n",
       "      <td>NaN</td>\n",
       "      <td>NaN</td>\n",
       "      <td>NaN</td>\n",
       "      <td>NaN</td>\n",
       "      <td>2005.073280</td>\n",
       "      <td>NaN</td>\n",
       "      <td>116.355920</td>\n",
       "      <td>NaN</td>\n",
       "      <td>NaN</td>\n",
       "      <td>5.723360</td>\n",
       "      <td>NaN</td>\n",
       "      <td>NaN</td>\n",
       "      <td>NaN</td>\n",
       "      <td>NaN</td>\n",
       "      <td>0.0</td>\n",
       "      <td>50813.627300</td>\n",
       "      <td>NaN</td>\n",
       "    </tr>\n",
       "    <tr>\n",
       "      <th>std</th>\n",
       "      <td>NaN</td>\n",
       "      <td>NaN</td>\n",
       "      <td>NaN</td>\n",
       "      <td>NaN</td>\n",
       "      <td>NaN</td>\n",
       "      <td>105.712813</td>\n",
       "      <td>NaN</td>\n",
       "      <td>209.216627</td>\n",
       "      <td>NaN</td>\n",
       "      <td>NaN</td>\n",
       "      <td>3.711984</td>\n",
       "      <td>NaN</td>\n",
       "      <td>NaN</td>\n",
       "      <td>NaN</td>\n",
       "      <td>NaN</td>\n",
       "      <td>0.0</td>\n",
       "      <td>25779.747957</td>\n",
       "      <td>NaN</td>\n",
       "    </tr>\n",
       "    <tr>\n",
       "      <th>min</th>\n",
       "      <td>NaN</td>\n",
       "      <td>NaN</td>\n",
       "      <td>NaN</td>\n",
       "      <td>NaN</td>\n",
       "      <td>NaN</td>\n",
       "      <td>1000.000000</td>\n",
       "      <td>NaN</td>\n",
       "      <td>0.000000</td>\n",
       "      <td>NaN</td>\n",
       "      <td>NaN</td>\n",
       "      <td>0.000000</td>\n",
       "      <td>NaN</td>\n",
       "      <td>NaN</td>\n",
       "      <td>NaN</td>\n",
       "      <td>NaN</td>\n",
       "      <td>0.0</td>\n",
       "      <td>1067.000000</td>\n",
       "      <td>NaN</td>\n",
       "    </tr>\n",
       "    <tr>\n",
       "      <th>25%</th>\n",
       "      <td>NaN</td>\n",
       "      <td>NaN</td>\n",
       "      <td>NaN</td>\n",
       "      <td>NaN</td>\n",
       "      <td>NaN</td>\n",
       "      <td>1999.000000</td>\n",
       "      <td>NaN</td>\n",
       "      <td>70.000000</td>\n",
       "      <td>NaN</td>\n",
       "      <td>NaN</td>\n",
       "      <td>3.000000</td>\n",
       "      <td>NaN</td>\n",
       "      <td>NaN</td>\n",
       "      <td>NaN</td>\n",
       "      <td>NaN</td>\n",
       "      <td>0.0</td>\n",
       "      <td>30451.000000</td>\n",
       "      <td>NaN</td>\n",
       "    </tr>\n",
       "    <tr>\n",
       "      <th>50%</th>\n",
       "      <td>NaN</td>\n",
       "      <td>NaN</td>\n",
       "      <td>NaN</td>\n",
       "      <td>NaN</td>\n",
       "      <td>NaN</td>\n",
       "      <td>2003.000000</td>\n",
       "      <td>NaN</td>\n",
       "      <td>105.000000</td>\n",
       "      <td>NaN</td>\n",
       "      <td>NaN</td>\n",
       "      <td>6.000000</td>\n",
       "      <td>NaN</td>\n",
       "      <td>NaN</td>\n",
       "      <td>NaN</td>\n",
       "      <td>NaN</td>\n",
       "      <td>0.0</td>\n",
       "      <td>49577.000000</td>\n",
       "      <td>NaN</td>\n",
       "    </tr>\n",
       "    <tr>\n",
       "      <th>75%</th>\n",
       "      <td>NaN</td>\n",
       "      <td>NaN</td>\n",
       "      <td>NaN</td>\n",
       "      <td>NaN</td>\n",
       "      <td>NaN</td>\n",
       "      <td>2008.000000</td>\n",
       "      <td>NaN</td>\n",
       "      <td>150.000000</td>\n",
       "      <td>NaN</td>\n",
       "      <td>NaN</td>\n",
       "      <td>9.000000</td>\n",
       "      <td>NaN</td>\n",
       "      <td>NaN</td>\n",
       "      <td>NaN</td>\n",
       "      <td>NaN</td>\n",
       "      <td>0.0</td>\n",
       "      <td>71540.000000</td>\n",
       "      <td>NaN</td>\n",
       "    </tr>\n",
       "    <tr>\n",
       "      <th>max</th>\n",
       "      <td>NaN</td>\n",
       "      <td>NaN</td>\n",
       "      <td>NaN</td>\n",
       "      <td>NaN</td>\n",
       "      <td>NaN</td>\n",
       "      <td>9999.000000</td>\n",
       "      <td>NaN</td>\n",
       "      <td>17700.000000</td>\n",
       "      <td>NaN</td>\n",
       "      <td>NaN</td>\n",
       "      <td>12.000000</td>\n",
       "      <td>NaN</td>\n",
       "      <td>NaN</td>\n",
       "      <td>NaN</td>\n",
       "      <td>NaN</td>\n",
       "      <td>0.0</td>\n",
       "      <td>99998.000000</td>\n",
       "      <td>NaN</td>\n",
       "    </tr>\n",
       "  </tbody>\n",
       "</table>\n",
       "</div>"
      ],
      "text/plain": [
       "               date_crawled         name  price abtest vehicle_type  \\\n",
       "count                 50000        50000  50000  50000        44905   \n",
       "unique                48213        38754   2357      2            8   \n",
       "top     2016-03-05 16:57:05  Ford_Fiesta     $0   test    limousine   \n",
       "freq                      3           78   1421  25756        12859   \n",
       "mean                    NaN          NaN    NaN    NaN          NaN   \n",
       "std                     NaN          NaN    NaN    NaN          NaN   \n",
       "min                     NaN          NaN    NaN    NaN          NaN   \n",
       "25%                     NaN          NaN    NaN    NaN          NaN   \n",
       "50%                     NaN          NaN    NaN    NaN          NaN   \n",
       "75%                     NaN          NaN    NaN    NaN          NaN   \n",
       "max                     NaN          NaN    NaN    NaN          NaN   \n",
       "\n",
       "        registration_year  gearbox      power_ps  model   odometer  \\\n",
       "count        50000.000000    47320  50000.000000  47242      50000   \n",
       "unique                NaN        2           NaN    245         13   \n",
       "top                   NaN  manuell           NaN   golf  150,000km   \n",
       "freq                  NaN    36993           NaN   4024      32424   \n",
       "mean          2005.073280      NaN    116.355920    NaN        NaN   \n",
       "std            105.712813      NaN    209.216627    NaN        NaN   \n",
       "min           1000.000000      NaN      0.000000    NaN        NaN   \n",
       "25%           1999.000000      NaN     70.000000    NaN        NaN   \n",
       "50%           2003.000000      NaN    105.000000    NaN        NaN   \n",
       "75%           2008.000000      NaN    150.000000    NaN        NaN   \n",
       "max           9999.000000      NaN  17700.000000    NaN        NaN   \n",
       "\n",
       "        registration_month fuel_type       brand unrepaired_damage  \\\n",
       "count         50000.000000     45518       50000             40171   \n",
       "unique                 NaN         7          40                 2   \n",
       "top                    NaN    benzin  volkswagen              nein   \n",
       "freq                   NaN     30107       10687             35232   \n",
       "mean              5.723360       NaN         NaN               NaN   \n",
       "std               3.711984       NaN         NaN               NaN   \n",
       "min               0.000000       NaN         NaN               NaN   \n",
       "25%               3.000000       NaN         NaN               NaN   \n",
       "50%               6.000000       NaN         NaN               NaN   \n",
       "75%               9.000000       NaN         NaN               NaN   \n",
       "max              12.000000       NaN         NaN               NaN   \n",
       "\n",
       "                 ad_created  nr_of_pictures   postal_code            last_seen  \n",
       "count                 50000         50000.0  50000.000000                50000  \n",
       "unique                   76             NaN           NaN                39481  \n",
       "top     2016-04-03 00:00:00             NaN           NaN  2016-04-07 06:17:27  \n",
       "freq                   1946             NaN           NaN                    8  \n",
       "mean                    NaN             0.0  50813.627300                  NaN  \n",
       "std                     NaN             0.0  25779.747957                  NaN  \n",
       "min                     NaN             0.0   1067.000000                  NaN  \n",
       "25%                     NaN             0.0  30451.000000                  NaN  \n",
       "50%                     NaN             0.0  49577.000000                  NaN  \n",
       "75%                     NaN             0.0  71540.000000                  NaN  \n",
       "max                     NaN             0.0  99998.000000                  NaN  "
      ]
     },
     "execution_count": 5,
     "metadata": {},
     "output_type": "execute_result"
    }
   ],
   "source": [
    "autos.describe(include='all')"
   ]
  },
  {
   "cell_type": "markdown",
   "metadata": {},
   "source": [
    "In this step, we convert the 'price' and 'odometer' column to number type, as well as rename 'odometer' to 'odometer_km'."
   ]
  },
  {
   "cell_type": "code",
   "execution_count": 6,
   "metadata": {
    "collapsed": false,
    "scrolled": true
   },
   "outputs": [
    {
     "name": "stdout",
     "output_type": "stream",
     "text": [
      "0         5000\n",
      "1         8500\n",
      "2         8990\n",
      "3         4350\n",
      "4         1350\n",
      "5         7900\n",
      "6          300\n",
      "7         1990\n",
      "8          250\n",
      "9          590\n",
      "10         999\n",
      "11         350\n",
      "12        5299\n",
      "13        1350\n",
      "14        3999\n",
      "15       18900\n",
      "16         350\n",
      "17        5500\n",
      "18         300\n",
      "19        4150\n",
      "20        3500\n",
      "21       41500\n",
      "22       25450\n",
      "23        7999\n",
      "24       48500\n",
      "25          90\n",
      "26         777\n",
      "27           0\n",
      "28        5250\n",
      "29        4999\n",
      "         ...  \n",
      "49970    15800\n",
      "49971      950\n",
      "49972     3300\n",
      "49973     6000\n",
      "49974        0\n",
      "49975     9700\n",
      "49976     5900\n",
      "49977     5500\n",
      "49978      900\n",
      "49979    11000\n",
      "49980      400\n",
      "49981     2000\n",
      "49982     1950\n",
      "49983      600\n",
      "49984        0\n",
      "49985     1000\n",
      "49986    15900\n",
      "49987    21990\n",
      "49988     9550\n",
      "49989      150\n",
      "49990    17500\n",
      "49991      500\n",
      "49992     4800\n",
      "49993     1650\n",
      "49994     5000\n",
      "49995    24900\n",
      "49996     1980\n",
      "49997    13200\n",
      "49998    22900\n",
      "49999     1250\n",
      "Name: price, Length: 50000, dtype: object\n"
     ]
    }
   ],
   "source": [
    "autos['price'] = autos['price'].str.replace('$','')\n",
    "autos['price'] = autos['price'].str.replace(',','')\n",
    "print(autos['price'])\n",
    "autos['price'] = autos['price'].astype(int)"
   ]
  },
  {
   "cell_type": "code",
   "execution_count": 7,
   "metadata": {
    "collapsed": false,
    "scrolled": true
   },
   "outputs": [
    {
     "name": "stdout",
     "output_type": "stream",
     "text": [
      "Index(['date_crawled', 'name', 'price', 'abtest', 'vehicle_type',\n",
      "       'registration_year', 'gearbox', 'power_ps', 'model', 'odometer_km',\n",
      "       'registration_month', 'fuel_type', 'brand', 'unrepaired_damage',\n",
      "       'ad_created', 'nr_of_pictures', 'postal_code', 'last_seen'],\n",
      "      dtype='object')\n",
      "0         1421\n",
      "500        781\n",
      "1500       734\n",
      "2500       643\n",
      "1000       639\n",
      "1200       639\n",
      "600        531\n",
      "800        498\n",
      "3500       498\n",
      "2000       460\n",
      "999        434\n",
      "750        433\n",
      "900        420\n",
      "650        419\n",
      "850        410\n",
      "700        395\n",
      "4500       394\n",
      "300        384\n",
      "2200       382\n",
      "950        379\n",
      "1100       376\n",
      "1300       371\n",
      "3000       365\n",
      "550        356\n",
      "1800       355\n",
      "5500       340\n",
      "1250       335\n",
      "350        335\n",
      "1600       327\n",
      "1999       322\n",
      "          ... \n",
      "46200        1\n",
      "29600        1\n",
      "13480        1\n",
      "21700        1\n",
      "7373         1\n",
      "3279         1\n",
      "4286         1\n",
      "188          1\n",
      "17830        1\n",
      "9130         1\n",
      "910          1\n",
      "238          1\n",
      "2671         1\n",
      "69900        1\n",
      "151990       1\n",
      "2479         1\n",
      "4510         1\n",
      "86500        1\n",
      "47499        1\n",
      "16998        1\n",
      "27299        1\n",
      "41850        1\n",
      "4780         1\n",
      "686          1\n",
      "6495         1\n",
      "20790        1\n",
      "8970         1\n",
      "846          1\n",
      "2895         1\n",
      "33980        1\n",
      "Name: price, Length: 2357, dtype: int64\n"
     ]
    }
   ],
   "source": [
    "autos['odometer'] = autos['odometer'].str.replace('km','')\n",
    "autos['odometer'] = autos['odometer'].str.replace(',','')\n",
    "autos['odometer'] = autos['odometer'].astype(int)\n",
    "autos.rename(columns={'odometer':'odometer_km'},inplace=True)\n",
    "\n",
    "print(autos.columns)\n",
    "print(autos['price'].value_counts())"
   ]
  },
  {
   "cell_type": "code",
   "execution_count": 8,
   "metadata": {
    "collapsed": false,
    "scrolled": true
   },
   "outputs": [
    {
     "data": {
      "text/plain": [
       "150000    32424\n",
       "125000     5170\n",
       "100000     2169\n",
       "90000      1757\n",
       "80000      1436\n",
       "Name: odometer_km, dtype: int64"
      ]
     },
     "execution_count": 8,
     "metadata": {},
     "output_type": "execute_result"
    }
   ],
   "source": [
    "autos['odometer_km'].unique().shape\n",
    "autos['odometer_km'].describe()\n",
    "autos['odometer_km'].value_counts().sort_index(ascending=False).head()"
   ]
  },
  {
   "cell_type": "markdown",
   "metadata": {},
   "source": [
    "The odometer value looks pretty normal, so no changes are needed here."
   ]
  },
  {
   "cell_type": "code",
   "execution_count": 9,
   "metadata": {
    "collapsed": false
   },
   "outputs": [
    {
     "data": {
      "text/plain": [
       "count    5.000000e+04\n",
       "mean     9.840044e+03\n",
       "std      4.811044e+05\n",
       "min      0.000000e+00\n",
       "25%      1.100000e+03\n",
       "50%      2.950000e+03\n",
       "75%      7.200000e+03\n",
       "max      1.000000e+08\n",
       "Name: price, dtype: float64"
      ]
     },
     "execution_count": 9,
     "metadata": {},
     "output_type": "execute_result"
    }
   ],
   "source": [
    "autos['price'].unique().shape\n",
    "autos['price'].describe()"
   ]
  },
  {
   "cell_type": "markdown",
   "metadata": {},
   "source": [
    "Let's take a look at the min and max values of the 'price' column to see if there are any anomalies."
   ]
  },
  {
   "cell_type": "code",
   "execution_count": 10,
   "metadata": {
    "collapsed": false,
    "scrolled": true
   },
   "outputs": [
    {
     "data": {
      "text/plain": [
       "99999999    1\n",
       "27322222    1\n",
       "12345678    3\n",
       "11111111    2\n",
       "10000000    1\n",
       "3890000     1\n",
       "1300000     1\n",
       "1234566     1\n",
       "999999      2\n",
       "999990      1\n",
       "350000      1\n",
       "345000      1\n",
       "299000      1\n",
       "295000      1\n",
       "265000      1\n",
       "259000      1\n",
       "250000      1\n",
       "220000      1\n",
       "198000      1\n",
       "197000      1\n",
       "194000      1\n",
       "190000      1\n",
       "180000      1\n",
       "175000      1\n",
       "169999      1\n",
       "169000      1\n",
       "163991      1\n",
       "163500      1\n",
       "155000      1\n",
       "151990      1\n",
       "           ..\n",
       "75900       1\n",
       "75000       1\n",
       "74999       2\n",
       "74900       3\n",
       "73996       1\n",
       "73900       1\n",
       "73500       1\n",
       "72900       1\n",
       "72600       1\n",
       "72500       1\n",
       "71000       1\n",
       "70850       1\n",
       "70000       1\n",
       "69999       1\n",
       "69997       1\n",
       "69993       1\n",
       "69900       1\n",
       "69500       1\n",
       "68900       1\n",
       "68750       1\n",
       "68500       1\n",
       "68300       1\n",
       "68000       1\n",
       "67911       1\n",
       "67000       1\n",
       "66964       1\n",
       "66500       1\n",
       "65990       1\n",
       "65700       1\n",
       "65699       1\n",
       "Name: price, Length: 100, dtype: int64"
      ]
     },
     "execution_count": 10,
     "metadata": {},
     "output_type": "execute_result"
    }
   ],
   "source": [
    "autos['price'].value_counts().sort_index(ascending=False).head(100)"
   ]
  },
  {
   "cell_type": "code",
   "execution_count": 11,
   "metadata": {
    "collapsed": false,
    "scrolled": true
   },
   "outputs": [
    {
     "name": "stdout",
     "output_type": "stream",
     "text": [
      "<class 'pandas.core.frame.DataFrame'>\n",
      "Int64Index: 47637 entries, 0 to 49999\n",
      "Data columns (total 18 columns):\n",
      "date_crawled          47637 non-null object\n",
      "name                  47637 non-null object\n",
      "price                 47637 non-null int64\n",
      "abtest                47637 non-null object\n",
      "vehicle_type          43389 non-null object\n",
      "registration_year     47637 non-null int64\n",
      "gearbox               45532 non-null object\n",
      "power_ps              47637 non-null int64\n",
      "model                 45307 non-null object\n",
      "odometer_km           47637 non-null int64\n",
      "registration_month    47637 non-null int64\n",
      "fuel_type             43907 non-null object\n",
      "brand                 47637 non-null object\n",
      "unrepaired_damage     39034 non-null object\n",
      "ad_created            47637 non-null object\n",
      "nr_of_pictures        47637 non-null int64\n",
      "postal_code           47637 non-null int64\n",
      "last_seen             47637 non-null object\n",
      "dtypes: int64(7), object(11)\n",
      "memory usage: 6.9+ MB\n"
     ]
    }
   ],
   "source": [
    "autos = autos[autos['price'].between(200,200000)]\n",
    "autos.info()"
   ]
  },
  {
   "cell_type": "markdown",
   "metadata": {},
   "source": [
    "As the mean is just around 10,000, we can see that some of the top and bottom values are very irrelevant to the rest of the dataset. Let's choose the appropriate range between 200 and 200,000.\n",
    "After the outliers are removed, we can see there are 47,637 items left, still enough for our analysis. "
   ]
  },
  {
   "cell_type": "code",
   "execution_count": 12,
   "metadata": {
    "collapsed": false
   },
   "outputs": [
    {
     "data": {
      "text/plain": [
       "2016-03-05    0.025358\n",
       "2016-03-06    0.014065\n",
       "2016-03-07    0.036001\n",
       "2016-03-08    0.033126\n",
       "2016-03-09    0.033042\n",
       "2016-03-10    0.032328\n",
       "2016-03-11    0.032706\n",
       "2016-03-12    0.036883\n",
       "2016-03-13    0.015702\n",
       "2016-03-14    0.036568\n",
       "2016-03-15    0.034238\n",
       "2016-03-16    0.029452\n",
       "2016-03-17    0.031551\n",
       "2016-03-18    0.012826\n",
       "2016-03-19    0.034616\n",
       "2016-03-20    0.037807\n",
       "2016-03-21    0.037345\n",
       "2016-03-22    0.032706\n",
       "2016-03-23    0.032370\n",
       "2016-03-24    0.029326\n",
       "2016-03-25    0.031425\n",
       "2016-03-26    0.032223\n",
       "2016-03-27    0.031194\n",
       "2016-03-28    0.034994\n",
       "2016-03-29    0.033986\n",
       "2016-03-30    0.033881\n",
       "2016-03-31    0.031845\n",
       "2016-04-01    0.033818\n",
       "2016-04-02    0.035687\n",
       "2016-04-03    0.038709\n",
       "2016-04-04    0.036568\n",
       "2016-04-05    0.013120\n",
       "2016-04-06    0.003170\n",
       "2016-04-07    0.001364\n",
       "Name: date_crawled, dtype: float64"
      ]
     },
     "execution_count": 12,
     "metadata": {},
     "output_type": "execute_result"
    }
   ],
   "source": [
    "autos['date_crawled'].str[:10].value_counts(normalize=True, dropna=False).sort_index()"
   ]
  },
  {
   "cell_type": "markdown",
   "metadata": {},
   "source": [
    "The crawling date range is one month, from early March to early April, 2016. The values in date_crawled are distributed quite evenly, around 3% per day - typical of machine's work I would say."
   ]
  },
  {
   "cell_type": "code",
   "execution_count": 13,
   "metadata": {
    "collapsed": false
   },
   "outputs": [
    {
     "data": {
      "text/plain": [
       "2015-06-11    0.000021\n",
       "2015-08-10    0.000021\n",
       "2015-09-09    0.000021\n",
       "2015-11-10    0.000021\n",
       "2015-12-05    0.000021\n",
       "2015-12-30    0.000021\n",
       "2016-01-03    0.000021\n",
       "2016-01-07    0.000021\n",
       "2016-01-10    0.000042\n",
       "2016-01-13    0.000021\n",
       "2016-01-14    0.000021\n",
       "2016-01-16    0.000021\n",
       "2016-01-22    0.000021\n",
       "2016-01-27    0.000063\n",
       "2016-01-29    0.000021\n",
       "2016-02-01    0.000021\n",
       "2016-02-02    0.000042\n",
       "2016-02-05    0.000042\n",
       "2016-02-07    0.000021\n",
       "2016-02-08    0.000021\n",
       "2016-02-09    0.000021\n",
       "2016-02-11    0.000021\n",
       "2016-02-12    0.000042\n",
       "2016-02-14    0.000042\n",
       "2016-02-16    0.000021\n",
       "2016-02-17    0.000021\n",
       "2016-02-18    0.000042\n",
       "2016-02-19    0.000063\n",
       "2016-02-20    0.000042\n",
       "2016-02-21    0.000063\n",
       "                ...   \n",
       "2016-03-09    0.033147\n",
       "2016-03-10    0.032034\n",
       "2016-03-11    0.033021\n",
       "2016-03-12    0.036694\n",
       "2016-03-13    0.017109\n",
       "2016-03-14    0.035183\n",
       "2016-03-15    0.033965\n",
       "2016-03-16    0.029956\n",
       "2016-03-17    0.031215\n",
       "2016-03-18    0.013456\n",
       "2016-03-19    0.033524\n",
       "2016-03-20    0.037891\n",
       "2016-03-21    0.037555\n",
       "2016-03-22    0.032538\n",
       "2016-03-23    0.032202\n",
       "2016-03-24    0.029263\n",
       "2016-03-25    0.031551\n",
       "2016-03-26    0.032265\n",
       "2016-03-27    0.031131\n",
       "2016-03-28    0.035078\n",
       "2016-03-29    0.033965\n",
       "2016-03-30    0.033692\n",
       "2016-03-31    0.031887\n",
       "2016-04-01    0.033797\n",
       "2016-04-02    0.035372\n",
       "2016-04-03    0.038961\n",
       "2016-04-04    0.036925\n",
       "2016-04-05    0.011840\n",
       "2016-04-06    0.003254\n",
       "2016-04-07    0.001218\n",
       "Name: ad_created, Length: 76, dtype: float64"
      ]
     },
     "execution_count": 13,
     "metadata": {},
     "output_type": "execute_result"
    }
   ],
   "source": [
    "autos['ad_created'].str[:10].value_counts(normalize=True, dropna=False).sort_index()"
   ]
  },
  {
   "cell_type": "markdown",
   "metadata": {},
   "source": [
    "The values of ad_created is much more varied, but concentrate mainly in March. The number of ads created in Feb and Jan 2016 is comparably small."
   ]
  },
  {
   "cell_type": "code",
   "execution_count": 14,
   "metadata": {
    "collapsed": false,
    "scrolled": true
   },
   "outputs": [
    {
     "data": {
      "text/plain": [
       "2016-03-05    0.001092\n",
       "2016-03-06    0.004303\n",
       "2016-03-07    0.005374\n",
       "2016-03-08    0.007179\n",
       "2016-03-09    0.009614\n",
       "2016-03-10    0.010475\n",
       "2016-03-11    0.012301\n",
       "2016-03-12    0.023910\n",
       "2016-03-13    0.008901\n",
       "2016-03-14    0.012532\n",
       "2016-03-15    0.015723\n",
       "2016-03-16    0.016290\n",
       "2016-03-17    0.028087\n",
       "2016-03-18    0.007284\n",
       "2016-03-19    0.015618\n",
       "2016-03-20    0.020656\n",
       "2016-03-21    0.020509\n",
       "2016-03-22    0.021412\n",
       "2016-03-23    0.018494\n",
       "2016-03-24    0.019628\n",
       "2016-03-25    0.019082\n",
       "2016-03-26    0.016689\n",
       "2016-03-27    0.015492\n",
       "2016-03-28    0.020740\n",
       "2016-03-29    0.022189\n",
       "2016-03-30    0.024582\n",
       "2016-03-31    0.023868\n",
       "2016-04-01    0.022902\n",
       "2016-04-02    0.024813\n",
       "2016-04-03    0.025086\n",
       "2016-04-04    0.024624\n",
       "2016-04-05    0.125449\n",
       "2016-04-06    0.222432\n",
       "2016-04-07    0.132670\n",
       "Name: last_seen, dtype: float64"
      ]
     },
     "execution_count": 14,
     "metadata": {},
     "output_type": "execute_result"
    }
   ],
   "source": [
    "autos['last_seen'].str[:10].value_counts(normalize=True, dropna=False).sort_index()"
   ]
  },
  {
   "cell_type": "markdown",
   "metadata": {},
   "source": [
    "The values from last_seen column are very unevenly distributed. \n",
    "Almost half of the last seen items are from three days: 5-7Apr."
   ]
  },
  {
   "cell_type": "code",
   "execution_count": 15,
   "metadata": {
    "collapsed": false,
    "scrolled": true
   },
   "outputs": [
    {
     "data": {
      "text/plain": [
       "count    47637.000000\n",
       "mean      2004.799631\n",
       "std         88.431141\n",
       "min       1000.000000\n",
       "25%       1999.000000\n",
       "50%       2004.000000\n",
       "75%       2008.000000\n",
       "max       9999.000000\n",
       "Name: registration_year, dtype: float64"
      ]
     },
     "execution_count": 15,
     "metadata": {},
     "output_type": "execute_result"
    }
   ],
   "source": [
    "autos['registration_year'].describe()"
   ]
  },
  {
   "cell_type": "markdown",
   "metadata": {},
   "source": [
    "min and max value (1000 and 9999 respectively) of 'registration_year' are not possible, therefore they need to be removed.\n",
    "Based on the mean of the series and 'common sense', we can safely suggest that the acceptable values can be somewhere between early 1900's and 2016 (the date this data is published)."
   ]
  },
  {
   "cell_type": "code",
   "execution_count": 16,
   "metadata": {
    "collapsed": false
   },
   "outputs": [],
   "source": [
    "auto_reg_year = autos.loc[: ,'registration_year']\n",
    "int_reg_year = auto_reg_year.astype(int)\n",
    "autos = autos[int_reg_year.between(1900,2016)]"
   ]
  },
  {
   "cell_type": "markdown",
   "metadata": {},
   "source": [
    "At this stage, I kept encoutering 'SettingWithCopyWarning'. So I worked around by separating the instructions into individual ones, which mean not using chained assignments.\n",
    "Let's check if the data has been successfully cleaned."
   ]
  },
  {
   "cell_type": "code",
   "execution_count": 17,
   "metadata": {
    "collapsed": false,
    "scrolled": true
   },
   "outputs": [
    {
     "data": {
      "text/plain": [
       "2000    0.065949\n",
       "2005    0.063480\n",
       "1999    0.062148\n",
       "2004    0.058849\n",
       "2003    0.058806\n",
       "2006    0.058259\n",
       "2001    0.057014\n",
       "2002    0.053956\n",
       "1998    0.049915\n",
       "2007    0.049631\n",
       "2008    0.048167\n",
       "2009    0.045415\n",
       "1997    0.040456\n",
       "2011    0.035323\n",
       "2010    0.034667\n",
       "2012    0.028529\n",
       "1996    0.028442\n",
       "2016    0.025318\n",
       "1995    0.024444\n",
       "2013    0.017410\n",
       "2014    0.014330\n",
       "1994    0.012954\n",
       "1993    0.008869\n",
       "2015    0.008170\n",
       "1992    0.007755\n",
       "1991    0.007209\n",
       "1990    0.006990\n",
       "1989    0.003692\n",
       "1988    0.002905\n",
       "1985    0.001922\n",
       "          ...   \n",
       "1960    0.000459\n",
       "1976    0.000459\n",
       "1969    0.000415\n",
       "1975    0.000393\n",
       "1965    0.000371\n",
       "1964    0.000262\n",
       "1963    0.000175\n",
       "1961    0.000131\n",
       "1959    0.000131\n",
       "1937    0.000087\n",
       "1958    0.000087\n",
       "1962    0.000087\n",
       "1956    0.000087\n",
       "1955    0.000044\n",
       "1954    0.000044\n",
       "1957    0.000044\n",
       "1951    0.000044\n",
       "1910    0.000044\n",
       "1934    0.000044\n",
       "1941    0.000044\n",
       "1948    0.000022\n",
       "1953    0.000022\n",
       "1939    0.000022\n",
       "1938    0.000022\n",
       "1943    0.000022\n",
       "1931    0.000022\n",
       "1950    0.000022\n",
       "1929    0.000022\n",
       "1927    0.000022\n",
       "1952    0.000022\n",
       "Name: registration_year, Length: 78, dtype: float64"
      ]
     },
     "execution_count": 17,
     "metadata": {},
     "output_type": "execute_result"
    }
   ],
   "source": [
    "autos['registration_year'].value_counts(normalize=True).sort_values(ascending=False)"
   ]
  },
  {
   "cell_type": "markdown",
   "metadata": {},
   "source": [
    "Most used cars were registered from late 90s to the 00s"
   ]
  },
  {
   "cell_type": "code",
   "execution_count": 18,
   "metadata": {
    "collapsed": false
   },
   "outputs": [
    {
     "data": {
      "text/plain": [
       "volkswagen        0.211281\n",
       "bmw               0.111232\n",
       "opel              0.105924\n",
       "mercedes_benz     0.097645\n",
       "audi              0.087619\n",
       "ford              0.068745\n",
       "renault           0.046551\n",
       "peugeot           0.029949\n",
       "fiat              0.025099\n",
       "seat              0.018175\n",
       "skoda             0.016514\n",
       "nissan            0.015291\n",
       "mazda             0.015138\n",
       "smart             0.014374\n",
       "citroen           0.014133\n",
       "toyota            0.012932\n",
       "hyundai           0.010114\n",
       "sonstige_autos    0.009524\n",
       "volvo             0.009197\n",
       "mini              0.008891\n",
       "mitsubishi        0.008170\n",
       "honda             0.007930\n",
       "kia               0.007143\n",
       "alfa_romeo        0.006684\n",
       "porsche           0.005985\n",
       "suzuki            0.005811\n",
       "chevrolet         0.005723\n",
       "chrysler          0.003561\n",
       "dacia             0.002687\n",
       "daihatsu          0.002490\n",
       "jeep              0.002316\n",
       "land_rover        0.002141\n",
       "subaru            0.002097\n",
       "saab              0.001660\n",
       "jaguar            0.001529\n",
       "daewoo            0.001485\n",
       "rover             0.001333\n",
       "trabant           0.001289\n",
       "lancia            0.001049\n",
       "lada              0.000590\n",
       "Name: brand, dtype: float64"
      ]
     },
     "execution_count": 18,
     "metadata": {},
     "output_type": "execute_result"
    }
   ],
   "source": [
    "autos['brand'].value_counts(normalize=True)"
   ]
  },
  {
   "cell_type": "markdown",
   "metadata": {},
   "source": [
    "From the value distribution table above, we can see that European brands are the dominating ones in the German market. Asian and even most American brands are quite far behind.\n",
    "In the next step, we are going to aggregate the most common brands, defined as those whose share is more than 2%."
   ]
  },
  {
   "cell_type": "code",
   "execution_count": 19,
   "metadata": {
    "collapsed": false
   },
   "outputs": [
    {
     "name": "stdout",
     "output_type": "stream",
     "text": [
      "6043.787714622745\n",
      "[('audi', 9406.093243580155),\n",
      " ('mercedes_benz', 8691.71744966443),\n",
      " ('bmw', 8306.00569520817),\n",
      " ('volkswagen', 5506.4409636062865),\n",
      " ('ford', 3883.292024149984),\n",
      " ('peugeot', 3142.0160466812545),\n",
      " ('opel', 3077.5772324190557),\n",
      " ('fiat', 2925.9547432550044),\n",
      " ('renault', 2552.5152510558423)]\n"
     ]
    }
   ],
   "source": [
    "import pprint\n",
    "selected_brands = ['volkswagen','bmw','opel','mercedes_benz','audi','ford','renault','peugeot','fiat']\n",
    "\n",
    "print(autos['price'].mean())\n",
    "top_brands = {}\n",
    "for brand in selected_brands:\n",
    "    selected_rows = autos[autos['brand'] == brand]\n",
    "    top_brands[brand] = selected_rows['price'].mean()\n",
    "\n",
    "sorted_d_price = sorted(top_brands.items(),reverse=True, key=lambda x: x[1])\n",
    "pprint.pprint(sorted_d_price)"
   ]
  },
  {
   "cell_type": "markdown",
   "metadata": {},
   "source": [
    "Among the selected brands (those with market share above 2 percent), the most common price point is around 3000 USD with the presence of brands such as Ford, Peugeot, Opel and Fiat. The higher end cars (Audi, Mercedes, and BMW) can be as twice as much as those mentioned above. Renault has the cheapest car in the list."
   ]
  },
  {
   "cell_type": "code",
   "execution_count": 20,
   "metadata": {
    "collapsed": false
   },
   "outputs": [
    {
     "name": "stdout",
     "output_type": "stream",
     "text": [
      "               mean_price  mean_mileage\n",
      "audi                 9406        129260\n",
      "bmw                  8306        132839\n",
      "fiat                 2925        116949\n",
      "ford                 3883        124095\n",
      "mercedes_benz        8691        131091\n",
      "opel                 3077        129231\n",
      "peugeot              3142        126929\n",
      "renault              2552        128052\n",
      "volkswagen           5506        128774\n"
     ]
    }
   ],
   "source": [
    "mean_mileage = {}\n",
    "for brand in selected_brands:\n",
    "    selected_rows = autos[autos['brand'] == brand]\n",
    "    mean_mileage[brand] = selected_rows['odometer_km'].mean()\n",
    "\n",
    "sr_price = pd.Series(top_brands, name='mean_price')\n",
    "sr_price = sr_price.astype(int)\n",
    "# pprint.pprint(sr_price)\n",
    "sr_mileage = pd.Series(mean_mileage, name='mean_mileage')\n",
    "sr_mileage = sr_mileage.astype(int)\n",
    "# pprint.pprint(sr_mileage)\n",
    "\n",
    "df = pd.concat([sr_price,sr_mileage],axis=1)\n",
    "print(df)\n"
   ]
  },
  {
   "cell_type": "markdown",
   "metadata": {},
   "source": [
    "From the dataframe above, we can see that the number of miles driven are quite similar among the most common brands. That might lead to a conclusion that the price in this case depends more on the brand rather than the miles. We can see that the more luxury brands such as Audi, BMW and Mercedes Benz are much more expensive than the rest of the selected brands."
   ]
  },
  {
   "cell_type": "markdown",
   "metadata": {},
   "source": [
    "### Additional Challenges #1:\n",
    "Replace German words with English counterparts"
   ]
  },
  {
   "cell_type": "code",
   "execution_count": 21,
   "metadata": {
    "collapsed": false,
    "scrolled": true
   },
   "outputs": [
    {
     "name": "stdout",
     "output_type": "stream",
     "text": [
      "0              bus\n",
      "1        limousine\n",
      "2        limousine\n",
      "3        small car\n",
      "4    station wagon\n",
      "5              bus\n",
      "6        limousine\n",
      "7        limousine\n",
      "8              NaN\n",
      "9              bus\n",
      "Name: vehicle_type, dtype: object\n"
     ]
    }
   ],
   "source": [
    "autos = autos.replace(\n",
    "{\n",
    "    'kleinwagen': 'small car',\n",
    "    'kombi': 'station wagon',\n",
    "    'andere': 'others',\n",
    "    'cabrio': 'convertible',\n",
    "    'bus': 'bus',\n",
    "    'limousine': 'limousine',\n",
    "    'coupe': 'coupe',\n",
    "    'suv': 'suv',\n",
    "    'manuell': 'manual',\n",
    "    'automatik': 'automatic',\n",
    "    'benzin': 'gasoline',\n",
    "    'nein': 'no',\n",
    "    'ja': 'yes'\n",
    "})\n",
    "\n",
    "print(autos['vehicle_type'].head(10))"
   ]
  },
  {
   "cell_type": "markdown",
   "metadata": {},
   "source": [
    "### Additional Challenges #2: Convert the dates to integer:\n",
    "There are 2 columns with datetime format, namely 'last_seen' and 'date_created'"
   ]
  },
  {
   "cell_type": "code",
   "execution_count": 22,
   "metadata": {
    "collapsed": false,
    "scrolled": true
   },
   "outputs": [
    {
     "name": "stdout",
     "output_type": "stream",
     "text": [
      "0    20160406\n",
      "1    20160406\n",
      "2    20160406\n",
      "3    20160315\n",
      "4    20160401\n",
      "Name: last_seen, dtype: int64\n"
     ]
    }
   ],
   "source": [
    "autos['last_seen'] = autos['last_seen'].str[:10]\n",
    "autos['last_seen'] = autos['last_seen'].str.replace('-','').astype(int)\n",
    "print(autos['last_seen'].head())\n",
    "\n",
    "# autos['last_seen'] = autos['last_seen'].astype(int)"
   ]
  },
  {
   "cell_type": "markdown",
   "metadata": {},
   "source": [
    "### Additional Challenges #3: Find the most common brand/model combinations"
   ]
  },
  {
   "cell_type": "markdown",
   "metadata": {},
   "source": [
    "Below is a list of 10 most common brand/model combinations"
   ]
  },
  {
   "cell_type": "code",
   "execution_count": 23,
   "metadata": {
    "collapsed": false,
    "scrolled": true
   },
   "outputs": [
    {
     "name": "stdout",
     "output_type": "stream",
     "text": [
      "volkswagen golf           3639\n",
      "bmw 3er                   2596\n",
      "volkswagen polo           1533\n",
      "opel corsa                1504\n",
      "volkswagen passat         1343\n",
      "opel astra                1318\n",
      "audi a4                   1223\n",
      "mercedes_benz c_klasse    1134\n",
      "bmw 5er                   1123\n",
      "mercedes_benz e_klasse     952\n",
      "dtype: int64\n"
     ]
    }
   ],
   "source": [
    "model_brand = autos['brand'] + \" \" + autos['model']\n",
    "print(model_brand.value_counts().head(10))"
   ]
  },
  {
   "cell_type": "markdown",
   "metadata": {},
   "source": [
    "### Additional Challenges #4: Find the relationship between price and mileage\n",
    "Before segmenting the column, we need to explore to see the minimum and maximum values. As the minimum value is near 0 and maximum value is 150000, 3 segments would be quite appropriate:\n",
    "1. 0 - 50,000 km\n",
    "2. 50,000 - 100,000 km\n",
    "3. 100,000 - 150,000 km"
   ]
  },
  {
   "cell_type": "code",
   "execution_count": 24,
   "metadata": {
    "collapsed": false
   },
   "outputs": [
    {
     "name": "stdout",
     "output_type": "stream",
     "text": [
      "150000\n",
      "5000\n"
     ]
    }
   ],
   "source": [
    "print(autos['odometer_km'].max())\n",
    "print(autos['odometer_km'].min())"
   ]
  },
  {
   "cell_type": "code",
   "execution_count": 25,
   "metadata": {
    "collapsed": false
   },
   "outputs": [
    {
     "name": "stdout",
     "output_type": "stream",
     "text": [
      "Average price of used cars with under 50,000 km: 15318.0\n",
      "Average price of used cars in the 50,000 - 100,000 km range: 10147.0\n",
      "Average price of used cars in the 100,000 - 150,000 km range: 4406.0\n"
     ]
    }
   ],
   "source": [
    "mileage_under_50k = autos[autos['odometer_km'] < 50000]['price'].mean()\n",
    "mileage_50k_150k = autos[(autos['odometer_km'] >= 50000) & (autos['odometer_km'] <= 100000)]['price'].mean()\n",
    "mileage_above_150k = autos[autos['odometer_km'] >= 100000]['price'].mean()\n",
    "print('Average price of used cars with under 50,000 km:', mileage_under_50k.round())\n",
    "print('Average price of used cars in the 50,000 - 100,000 km range:',mileage_50k_150k.round())\n",
    "print('Average price of used cars in the 100,000 - 150,000 km range:',mileage_above_150k.round())"
   ]
  },
  {
   "cell_type": "markdown",
   "metadata": {},
   "source": [
    "From the prices shown above, we can see that a used car's price tends to decline at the same rate as it is used."
   ]
  },
  {
   "cell_type": "markdown",
   "metadata": {},
   "source": [
    "### Additional Challenges #5: Compare the price of damaged and non-damaged cars\n",
    "\n",
    "To do this, we will compare the average value of damaged and non-damaged cars."
   ]
  },
  {
   "cell_type": "code",
   "execution_count": 36,
   "metadata": {
    "collapsed": false
   },
   "outputs": [
    {
     "name": "stdout",
     "output_type": "stream",
     "text": [
      "Average price of unrepaired cars: 2362.0\n",
      "Average price of repaired cars: 7140.0\n"
     ]
    }
   ],
   "source": [
    "price_unrepaired_damage = autos[autos['unrepaired_damage'] == 'yes']['price'].mean()\n",
    "price_repaired_damage = autos[autos['unrepaired_damage'] == 'no']['price'].mean()\n",
    "print('Average price of unrepaired cars:', price_unrepaired_damage.round())\n",
    "print('Average price of repaired cars:', price_repaired_damage.round())"
   ]
  },
  {
   "cell_type": "markdown",
   "metadata": {},
   "source": [
    "As we can see, price of repaired cars is much higher (x3) than unrepaired cars."
   ]
  },
  {
   "cell_type": "markdown",
   "metadata": {},
   "source": [
    "## Conclusion:\n",
    "\n",
    "In this project, we try to understand the landscape of German used car market by analyzing the data gathered from various sources. Here are some conclusions drawn from the available data:\n",
    "1. Most used cars on the market are around 20 years old, as of 2016 (the date of registration ranges from 90s to early 2000s).\n",
    "2. European brands dominate the German used car market. The four most common brands are: Volkswagen, BMW, Opel, Mercedes Benz, and Audi.\n",
    "3. Most used cars cost about USD3,000, but the higher end cars can be as twice as expensive."
   ]
  }
 ],
 "metadata": {
  "kernelspec": {
   "display_name": "Python 3",
   "language": "python",
   "name": "python3"
  },
  "language_info": {
   "codemirror_mode": {
    "name": "ipython",
    "version": 3
   },
   "file_extension": ".py",
   "mimetype": "text/x-python",
   "name": "python",
   "nbconvert_exporter": "python",
   "pygments_lexer": "ipython3",
   "version": "3.4.3"
  }
 },
 "nbformat": 4,
 "nbformat_minor": 2
}
